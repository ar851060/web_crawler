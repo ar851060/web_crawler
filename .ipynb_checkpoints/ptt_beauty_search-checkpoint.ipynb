{
 "cells": [
  {
   "cell_type": "code",
   "execution_count": 44,
   "metadata": {},
   "outputs": [],
   "source": [
    "import requests\n",
    "from bs4 import BeautifulSoup\n",
    "payload = {'from':'bbs/Beauty/index.html', 'yes':'yes'}\n",
    "rs = requests.session()\n",
    "ask = rs.post('https://www.ptt.cc/ask/over18', data = payload)\n",
    "res = rs.get('https://www.ptt.cc/bbs/Beauty/index3167.html')\n",
    "soup = BeautifulSoup(res.text)"
   ]
  },
  {
   "cell_type": "code",
   "execution_count": 70,
   "metadata": {},
   "outputs": [
    {
     "name": "stdout",
     "output_type": "stream",
     "text": [
      "\n",
      "[正妹] 氣質型我同事\n",
      " HCMS 98\n",
      "/bbs/Beauty/M.1578464438.A.1A3.html\n",
      "\n",
      "[廣告] 純天然神乳AV女優 益坂美亜 (圖多)\n",
      " kelseyaya 23\n",
      "/bbs/Beauty/M.1578532770.A.ABD.html\n",
      "\n",
      "[正妹] 越南\n",
      " ReiKuromiya 23\n",
      "/bbs/Beauty/M.1578541021.A.5CA.html\n",
      "\n",
      "[正妹] 別人的前女友 \n",
      " ken84918196 69\n",
      "/bbs/Beauty/M.1578553298.A.579.html\n"
     ]
    }
   ],
   "source": [
    "for article in soup.select('.r-ent'):\n",
    "    if article.select('.nrec')[0].text != \"\" and int(article.select('.nrec')[0].text) >20:\n",
    "        print(article.select('.title')[0].text, article.select('.author')[0].text, article.select('.nrec')[0].text)\n",
    "        print(article.find('a')['href'])"
   ]
  },
  {
   "cell_type": "code",
   "execution_count": null,
   "metadata": {},
   "outputs": [],
   "source": []
  }
 ],
 "metadata": {
  "kernelspec": {
   "display_name": "Python 3",
   "language": "python",
   "name": "python3"
  },
  "language_info": {
   "codemirror_mode": {
    "name": "ipython",
    "version": 3
   },
   "file_extension": ".py",
   "mimetype": "text/x-python",
   "name": "python",
   "nbconvert_exporter": "python",
   "pygments_lexer": "ipython3",
   "version": "3.7.4"
  }
 },
 "nbformat": 4,
 "nbformat_minor": 2
}
